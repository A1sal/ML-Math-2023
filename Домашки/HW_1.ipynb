{
 "cells": [
  {
   "cell_type": "code",
   "execution_count": 293,
   "metadata": {},
   "outputs": [
    {
     "data": {
      "text/html": [
       "<style>.container { width:90% !important; }</style>"
      ],
      "text/plain": [
       "<IPython.core.display.HTML object>"
      ]
     },
     "metadata": {},
     "output_type": "display_data"
    }
   ],
   "source": [
    "from IPython.core.display import display, HTML\n",
    "\n",
    "display(HTML(\"<style>.container { width:90% !important; }</style>\"))"
   ]
  },
  {
   "cell_type": "markdown",
   "metadata": {},
   "source": [
    "# Домашнее задание №1: линейная регрессия и векторное дифференцирование (10 баллов).\n",
    "\n",
    "* Некоторые задания будут по вариантам (всего 4 варианта). Чтобы выяснить свой вариант, посчитайте количество букв в своей фамилии, возьмите остаток от деления на 4 и прибавьте 1."
   ]
  },
  {
   "cell_type": "markdown",
   "metadata": {},
   "source": [
    "Есаян = 5 букв\n",
    "\n",
    "5 % 4 + 1 = 2 вариант"
   ]
  },
  {
   "cell_type": "code",
   "execution_count": 294,
   "metadata": {},
   "outputs": [],
   "source": [
    "import numpy as np"
   ]
  },
  {
   "cell_type": "markdown",
   "metadata": {},
   "source": [
    "## Многомерная линейная регрессия из sklearn"
   ]
  },
  {
   "cell_type": "markdown",
   "metadata": {},
   "source": [
    "Применим многомерную регрессию из sklearn для стандартного датасета"
   ]
  },
  {
   "cell_type": "code",
   "execution_count": 295,
   "metadata": {},
   "outputs": [
    {
     "name": "stdout",
     "output_type": "stream",
     "text": [
      "(10000, 100) (10000,)\n"
     ]
    }
   ],
   "source": [
    "from sklearn.datasets import make_regression\n",
    "\n",
    "X, y = make_regression(n_samples = 10000)\n",
    "print(X.shape, y.shape)"
   ]
  },
  {
   "cell_type": "markdown",
   "metadata": {},
   "source": [
    "У нас 10000 объектов и 100 признаков. Для начала решим задачу аналитически \"из коробки\"."
   ]
  },
  {
   "cell_type": "code",
   "execution_count": 296,
   "metadata": {},
   "outputs": [
    {
     "name": "stdout",
     "output_type": "stream",
     "text": [
      "1.3947402571022364e-25\n"
     ]
    },
    {
     "data": {
      "text/plain": [
       "array([ 2.35131177e-14,  5.68434189e-14, -7.10542736e-15,  6.56591813e+00,\n",
       "       -5.32907052e-15,  7.81597009e-14,  1.73194792e-14, -3.55271368e-15,\n",
       "       -6.39488462e-14,  2.37587727e-14,  1.64155379e+01,  1.77761650e+01,\n",
       "       -1.95399252e-14,  3.55271368e-15, -3.19744231e-14, -1.10134124e-13,\n",
       "        1.73194792e-14, -1.77635684e-15,  8.43769499e-15,  5.95079541e-14,\n",
       "        1.59872116e-14, -9.68114477e-14, -2.08721929e-14, -2.66453526e-14,\n",
       "        2.05391260e-14, -4.52970994e-14, -7.10542736e-15, -4.17443857e-14,\n",
       "       -5.06261699e-14,  1.77635684e-15, -3.10862447e-15,  1.42108547e-14,\n",
       "       -2.30926389e-14, -2.30926389e-14,  2.57571742e-14,  7.99360578e-15,\n",
       "        9.99200722e-15, -7.54951657e-15,  9.76996262e-15, -1.52100554e-14,\n",
       "        3.59712260e-14,  2.30926389e-14,  3.37507799e-14, -4.57411886e-14,\n",
       "       -4.44089210e-14,  6.21724894e-14,  1.19904087e-14, -1.42108547e-14,\n",
       "        1.77635684e-14,  9.73606083e+01, -1.59872116e-14,  9.36343986e+01,\n",
       "        2.08721929e-14, -2.13162821e-14,  3.46389584e-14, -6.92779167e-14,\n",
       "       -5.32907052e-15,  3.05311332e-14, -4.44089210e-15, -4.97379915e-14,\n",
       "       -2.22044605e-14, -6.83897383e-14,  2.26485497e-14, -5.32907052e-14,\n",
       "        1.79856130e-14,  2.22044605e-14,  1.11022302e-14,  2.16135406e+01,\n",
       "        0.00000000e+00,  3.73034936e-14, -2.02060590e-14,  0.00000000e+00,\n",
       "       -4.88498131e-14,  1.68753900e-14,  2.66453526e-15,  1.33226763e-14,\n",
       "        9.35028445e+01, -3.01980663e-14, -5.55111512e-14,  1.13738205e+01,\n",
       "        1.68753900e-14, -3.46389584e-14, -1.77635684e-15,  3.80806497e-14,\n",
       "       -3.55271368e-14, -6.66133815e-15,  2.75907754e+01, -2.75335310e-14,\n",
       "        2.46469511e-14,  2.15383267e-14,  3.92786095e+01,  1.64313008e-14,\n",
       "        2.66453526e-14,  2.93098879e-14, -6.75015599e-14,  1.95399252e-14,\n",
       "       -1.06581410e-14,  7.06101844e-14, -8.54871729e-15, -7.99360578e-14])"
      ]
     },
     "execution_count": 296,
     "metadata": {},
     "output_type": "execute_result"
    }
   ],
   "source": [
    "from sklearn.linear_model import LinearRegression\n",
    "from sklearn.metrics import mean_squared_error\n",
    "\n",
    "reg = LinearRegression().fit(X, y)\n",
    "print(mean_squared_error(y, reg.predict(X)))\n",
    "reg.coef_"
   ]
  },
  {
   "cell_type": "markdown",
   "metadata": {},
   "source": [
    "Теперь попробуем обучить линейную регрессию методом градиентного спуска \"из коробки\""
   ]
  },
  {
   "cell_type": "code",
   "execution_count": 303,
   "metadata": {},
   "outputs": [
    {
     "name": "stdout",
     "output_type": "stream",
     "text": [
      "3.082105740111725e-10\n"
     ]
    },
    {
     "data": {
      "text/plain": [
       "array([-3.68402357e-07, -1.13535010e-07,  1.86935665e-07,  6.56591700e+00,\n",
       "       -4.38334170e-07,  3.76401407e-07,  1.25000937e-07,  3.39338755e-07,\n",
       "        4.87525702e-07,  1.19336974e-07,  1.64155365e+01,  1.77761632e+01,\n",
       "       -9.50190521e-08, -2.64870092e-07,  3.58796212e-07,  1.17983819e-07,\n",
       "       -1.53832446e-08,  5.07897595e-08, -2.04123860e-07,  4.10059282e-07,\n",
       "        3.51692791e-07, -4.24776892e-07, -3.85013047e-07, -6.81069704e-07,\n",
       "        6.32062628e-07,  2.83269459e-07, -2.56108139e-07,  5.71618280e-07,\n",
       "       -3.02694060e-07, -2.18085642e-07,  6.38258940e-07,  3.82163421e-07,\n",
       "        3.20326696e-07, -2.35140919e-07, -3.61159682e-07,  3.07989613e-07,\n",
       "       -4.86825399e-07,  3.16703831e-07, -3.12232998e-08, -1.66093067e-07,\n",
       "       -3.39979814e-07,  7.39551108e-08,  3.75967227e-07,  2.87431921e-07,\n",
       "        3.07528916e-07, -8.15395308e-07, -3.39825983e-07, -3.06102669e-07,\n",
       "       -4.03523761e-07,  9.73605986e+01, -6.60015206e-07,  9.36343897e+01,\n",
       "        1.99211576e-07,  1.16535917e-07, -3.02857137e-07,  3.24878428e-07,\n",
       "        1.71418592e-07, -1.95143292e-07,  2.28684180e-07, -2.57301680e-07,\n",
       "       -1.15185146e-07, -2.06121178e-07,  1.51484053e-07,  9.29696978e-08,\n",
       "        3.67774951e-07,  2.64349971e-07, -6.31510511e-07,  2.16135381e+01,\n",
       "        4.22352710e-07, -5.50398607e-07, -3.37162711e-07, -1.36468316e-07,\n",
       "       -7.06412802e-08,  7.19604913e-08,  3.01149502e-07, -1.15675605e-06,\n",
       "        9.35028351e+01,  6.37844525e-08,  2.78309322e-07,  1.13738193e+01,\n",
       "       -1.53797253e-07,  1.26233588e-08, -6.36814743e-08, -3.03243404e-07,\n",
       "       -2.06986207e-07,  1.85922231e-08,  2.75907726e+01,  1.74027600e-07,\n",
       "       -5.28455202e-10, -1.72941986e-07,  3.92786055e+01,  8.74381519e-08,\n",
       "       -2.13610943e-07, -1.35088229e-07,  9.76312084e-07, -2.09191851e-07,\n",
       "        1.05084105e-07, -2.10157486e-07, -3.68004268e-07, -1.95530397e-07])"
      ]
     },
     "execution_count": 303,
     "metadata": {},
     "output_type": "execute_result"
    }
   ],
   "source": [
    "from sklearn.linear_model import SGDRegressor\n",
    "reg = SGDRegressor(alpha=0.0000001).fit(X, y)\n",
    "print(mean_squared_error(y, reg.predict(X)))\n",
    "reg.coef_"
   ]
  },
  {
   "cell_type": "markdown",
   "metadata": {},
   "source": [
    "***Задание 1 (0.5 балла).*** Объясните, чем вызвано различие двух полученных значений метрики?\n",
    "\n",
    "***Ответ:*** в sklearn имплементации линейной регрессии получили MSE в 10^15 раз меньше, чем в SGDRegressor. В SGDRegressor используется L1-регуляризация, не позволяющая слишком идеально обучить модель на искуственных данных (так как регуляризация используется как-раз таки для того, чтобы не переобучить модель), а в sklearn LinearRegression() регуляризации нет.\n",
    "\n",
    "***Задание 2 (0.5 балла).*** Подберите гиперпараметры в методе градиентного спуска так, чтобы значение MSE было близко к значению MSE, полученному при обучении LinearRegression.\n",
    "\n",
    "***Ответ:*** при alpha=0 или очень-очень близком к нулю получим одинаковые MSE (см. ниже)"
   ]
  },
  {
   "cell_type": "code",
   "execution_count": 304,
   "metadata": {},
   "outputs": [
    {
     "name": "stdout",
     "output_type": "stream",
     "text": [
      "5.3463399809659515e-25\n"
     ]
    }
   ],
   "source": [
    "from sklearn.linear_model import SGDRegressor\n",
    "reg = SGDRegressor(alpha=0.000000).fit(X, y)\n",
    "print(mean_squared_error(y, reg.predict(X)))"
   ]
  },
  {
   "cell_type": "markdown",
   "metadata": {},
   "source": [
    "Получили MSE = 5.3463399809659515e-25 vs MSE = 1.3947402571022364e-25 -- более близкие значения"
   ]
  },
  {
   "cell_type": "markdown",
   "metadata": {},
   "source": [
    "## Ваша многомерная линейная регрессия"
   ]
  },
  {
   "cell_type": "markdown",
   "metadata": {},
   "source": [
    "***Задание 3 (4 балла)***. Напишите собственную многомерную линейную регрессию, оптимизирующую MSE методом *градиентного спуска*. Для этого используйте шаблонный класс. \n",
    "\n",
    "Критерий останова: либо норма разности весов на текущей и предыдущей итерациях меньше определенного значения (первый и третий варианты), либо модуль разности функционалов качества (MSE) на текущей и предыдущей итерациях меньше определенного значения (второй и четвертый варианты). Также предлагается завершать обучение в любом случае, если было произведено слишком много итераций.\n",
    "\n",
    "***Задание 4 (2 балла)***. Добавьте l1 (первый и второй варианты) или l2 (третий и четвертый варианты) регуляризацию. "
   ]
  },
  {
   "cell_type": "code",
   "execution_count": 306,
   "metadata": {},
   "outputs": [],
   "source": [
    "class LinearRegression(object):\n",
    "    def __init__(self, alpha=0.0001, l_ratio=0.001, tol=0.001, max_iter=1000):\n",
    "        '''\n",
    "        Для начала необходимо инициализировать параметры\n",
    "        alpha - это learning rate или шаг обучения\n",
    "        l_ratio - параметр регуляризации\n",
    "        tol - значение для критерия останова\n",
    "        max_iter - максимальное количество итераций обучения\n",
    "        '''\n",
    "        self.alpha_ = alpha\n",
    "        self.l_ratio_ = l_ratio\n",
    "        self.tol_ = tol\n",
    "        self.max_iter_ = max_iter\n",
    "             \n",
    "    def fit(self, X, y):\n",
    "        '''\n",
    "        Метод для обучения линейной регрессии\n",
    "        X - матрица признаков\n",
    "        y - вектор правильных ответов\n",
    "        '''\n",
    "        self.costs_ = []\n",
    "        self.coef_ = np.zeros((X.shape[1], ))\n",
    "        m = X.shape[0]\n",
    "        i = 0\n",
    "        while i <= self.max_iter_:\n",
    "            y_pred = np.dot(X, self.coef_)\n",
    "            residual = y_pred - y\n",
    "            gradient_vector = 2 * np.dot(X.T, residual) + self.l_ratio_ * np.sign(self.coef_)\n",
    "            self.coef_ -= (self.alpha_ / m) * gradient_vector\n",
    "            cost = np.sum(residual ** 2) / m\n",
    "            self.costs_.append(cost)\n",
    "            \n",
    "            if i > 1 and abs(self.costs_[i] - self.costs_[i - 1]) < self.tol_:\n",
    "                break\n",
    "            else:\n",
    "                i += 1\n",
    "        return self\n",
    "        \n",
    "   \n",
    "    def predict(self, X):\n",
    "        '''\n",
    "        Метод для предсказаний линейной регрессии\n",
    "        X - матрица признаков\n",
    "        '''\n",
    "        \n",
    "        return np.dot(X, self.coef_)"
   ]
  },
  {
   "cell_type": "code",
   "execution_count": 290,
   "metadata": {},
   "outputs": [
    {
     "name": "stdout",
     "output_type": "stream",
     "text": [
      "You are amazing! Great work!\n"
     ]
    }
   ],
   "source": [
    "my_reg = LinearRegression(alpha = 0.1, tol = 0.0001, l_ratio = 0.01)\n",
    "my_reg.fit(X, y)\n",
    "\n",
    "assert mean_squared_error(y, my_reg.predict(X)) < 1e-3\n",
    "print('You are amazing! Great work!')"
   ]
  },
  {
   "cell_type": "code",
   "execution_count": 291,
   "metadata": {},
   "outputs": [
    {
     "data": {
      "text/plain": [
       "0.0001230608151993754"
      ]
     },
     "execution_count": 291,
     "metadata": {},
     "output_type": "execute_result"
    }
   ],
   "source": [
    "mean_squared_error(y, my_reg.predict(X))"
   ]
  },
  {
   "cell_type": "code",
   "execution_count": 260,
   "metadata": {},
   "outputs": [
    {
     "data": {
      "text/plain": [
       "[<matplotlib.lines.Line2D at 0x7f8a81576460>]"
      ]
     },
     "execution_count": 260,
     "metadata": {},
     "output_type": "execute_result"
    },
    {
     "data": {
      "image/png": "[encoded data removed]",
      "text/plain": [
       "<Figure size 432x288 with 1 Axes>"
      ]
     },
     "metadata": {
      "needs_background": "light"
     },
     "output_type": "display_data"
    }
   ],
   "source": [
    "import matplotlib.pyplot as plt\n",
    "plt.plot(my_reg.costs_)"
   ]
  },
  {
   "cell_type": "markdown",
   "metadata": {},
   "source": [
    "***Задание 5 (1 балл)***. Обучите линейную регрессию из коробки\n",
    "\n",
    "* с l1-регуляризацией (from sklearn.linear_model import Lasso, **первый и второй вариант**) или с l2-регуляризацией (from sklearn.linear_model import Ridge, **третий и четвертый вариант**)\n",
    "* со значением параметра регуляризации **0.1 - для первого и третьего варианта, 0.01 - для второго и четвертого варианта**. \n",
    "\n",
    "Обучите вашу линейную регрессию с тем же значением параметра регуляризации и сравните результаты. Сделайте выводы."
   ]
  },
  {
   "cell_type": "code",
   "execution_count": 263,
   "metadata": {},
   "outputs": [
    {
     "data": {
      "text/plain": [
       "0.0010130280293980426"
      ]
     },
     "execution_count": 263,
     "metadata": {},
     "output_type": "execute_result"
    }
   ],
   "source": [
    "from sklearn.linear_model import Lasso\n",
    "\n",
    "lasso_reg = Lasso(alpha = 0.01)\n",
    "lasso_reg.fit(X, y)\n",
    "\n",
    "lasso_reg.predict(X)\n",
    "mean_squared_error(y, lasso_reg.predict(X))"
   ]
  },
  {
   "cell_type": "markdown",
   "metadata": {},
   "source": [
    "Увеличив параметр регуляризации, увеличивается MSE (позволяем модели не переобучаться на обучающихся данных)"
   ]
  },
  {
   "cell_type": "markdown",
   "metadata": {},
   "source": [
    "***Задание 6 (1 балл).***\n",
    "Пусть $P, Q \\in \\mathbb{R}^{n\\times n}$. Найдите $\\nabla_Q tr(PQ)$"
   ]
  },
  {
   "cell_type": "markdown",
   "metadata": {},
   "source": [
    "Пусть $P = (p_{ij}), Q = (q_{ij})$. Втупую посчитаем $tr(PQ) = \\sum_i^n \\sum_j^n p_{ij}q_{ji}$.\n",
    "\n",
    "Частная производная $\\frac{\\delta tr(PQ)}{\\delta q_{ij}} = p_{ji}$.\n",
    "\n",
    "В результате получим, что $\\nabla_Q tr(PQ) = P^T$"
   ]
  },
  {
   "cell_type": "markdown",
   "metadata": {},
   "source": [
    "***Задание 7 (1 балл).***\n",
    "Пусть $x, y \\in \\mathbb{R}^{n}, M \\in \\mathbb{R}^{n\\times n}$. Найдите $\\nabla_M x^T M y$"
   ]
  },
  {
   "cell_type": "markdown",
   "metadata": {},
   "source": [
    "Посчитаем $\\nabla_M x^T M y$\n",
    "\n",
    "Считаем втупую: $\\nabla_M x^T M y = \\sum_i^n \\sum_j^n y_i m_{ij} x_j$\n",
    "\n",
    "\n",
    "Частная производная $\\frac{\\delta \\nabla_M x^T M y}{\\delta m_{ij}} = y_i x_j$.\n",
    "\n",
    "Значит, $\\nabla_M x^T M y = xy^T$\n"
   ]
  },
  {
   "cell_type": "markdown",
   "metadata": {},
   "source": [
    "Решения заданий 6 и 7 можно написать на листочке и отправить в anytask вместе с заполненным ноутбуком."
   ]
  }
 ],
 "metadata": {
  "kernelspec": {
   "display_name": "Python 3",
   "language": "python",
   "name": "python3"
  },
  "language_info": {
   "codemirror_mode": {
    "name": "ipython",
    "version": 3
   },
   "file_extension": ".py",
   "mimetype": "text/x-python",
   "name": "python",
   "nbconvert_exporter": "python",
   "pygments_lexer": "ipython3",
   "version": "3.8.5"
  }
 },
 "nbformat": 4,
 "nbformat_minor": 2
}
