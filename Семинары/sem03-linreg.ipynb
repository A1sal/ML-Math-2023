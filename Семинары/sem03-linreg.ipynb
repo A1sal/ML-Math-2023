{
 "cells": [
  {
   "attachments": {},
   "cell_type": "markdown",
   "metadata": {},
   "source": [
    "# Семинар 3: Линейная регрессия, sklearn, регуляризация.\n",
    "\n",
    "[![Open In Colab](https://colab.research.google.com/assets/colab-badge.svg)](https://colab.research.google.com/github/Murcha1990/ML_math_2022/blob/main/Семинары/sem03-linreg.ipynb)"
   ]
  },
  {
   "cell_type": "code",
   "execution_count": null,
   "metadata": {},
   "outputs": [],
   "source": [
    "import numpy as np\n",
    "import pandas as pd\n",
    "from matplotlib import pyplot as plt\n",
    "%matplotlib inline\n",
    "\n",
    "def plot(x, y_true, y_pred=None):\n",
    "    plt.scatter(x, y_true, label='true', color='blue')\n",
    "    if y_pred is not None:\n",
    "        plt.plot(x, y_pred, label='pred', color='red')\n",
    "    plt.legend()"
   ]
  },
  {
   "attachments": {},
   "cell_type": "markdown",
   "metadata": {},
   "source": [
    "## Одномерная линейная регрессия\n",
    "\n",
    "1. Выведите формулу обновления весов одномерной линейной регрессии методом градиентного спуска.\n",
    "\n",
    "2. Напишите функцию, релизующую обучение одномерной линейной регрессии методом градиентного спуска."
   ]
  },
  {
   "cell_type": "code",
   "execution_count": null,
   "metadata": {},
   "outputs": [],
   "source": [
    "def linear_regression(X, y_true, m=0, b=0, epochs=1000, learning_rate=1e-4):\n",
    "    N = y_true.shape[0]\n",
    "    costs = []\n",
    "    for _ in range(epochs):\n",
    "        y_pred = <YOUR CODE>\n",
    "        costs.append(<YOUR CODE>)\n",
    "\n",
    "        m_gradient = <YOUR CODE>\n",
    "        b_gradient = <YOUR CODE>\n",
    "\n",
    "        m = <YOUR CODE>\n",
    "        b = <YOUR CODE>\n",
    "\n",
    "    return m, b, costs"
   ]
  },
  {
   "attachments": {},
   "cell_type": "markdown",
   "metadata": {},
   "source": [
    "### Сгенерируем точки для задачи регрессии"
   ]
  },
  {
   "cell_type": "code",
   "execution_count": null,
   "metadata": {},
   "outputs": [],
   "source": [
    "num_points = 100\n",
    "m, b, delta = 1, 0, 1\n",
    "\n",
    "x = np.linspace(1, 10, num_points)\n",
    "y = m * x + b + np.random.uniform(-delta, delta, num_points)\n",
    "\n",
    "plot(x, y)"
   ]
  },
  {
   "cell_type": "markdown",
   "metadata": {},
   "source": [
    "### Обучим нашу линейную регрессию и посмотрим на результат"
   ]
  },
  {
   "cell_type": "code",
   "execution_count": null,
   "metadata": {},
   "outputs": [],
   "source": [
    "m, b, cost = linear_regression(x, y)\n",
    "\n",
    "y_pred = m * x + b\n",
    "plot(x, y, y_pred)\n",
    "\n",
    "print(f'MSE: {cost[-1]}')"
   ]
  },
  {
   "attachments": {},
   "cell_type": "markdown",
   "metadata": {},
   "source": [
    "### Загрузим данные"
   ]
  },
  {
   "attachments": {},
   "cell_type": "markdown",
   "metadata": {},
   "source": [
    "<!-- def some_noisy_function(x, noise):\n",
    "    num_points = x.shape[0]\n",
    "    return .2 * x + 1.3 * np.sin(x) - .06 * x ** 2 + noise * np.random.uniform(-noise, noise, num_points) -->"
   ]
  },
  {
   "cell_type": "code",
   "execution_count": null,
   "metadata": {},
   "outputs": [],
   "source": [
    "import pickle\n",
    "!wget https://raw.githubusercontent.com/Murcha1990/ML_math_2022/main/Семинары/data/sem03-data.pkl\n",
    "\n",
    "x, y = pickle.load(open('sem03-data.pkl', 'rb'))"
   ]
  },
  {
   "attachments": {},
   "cell_type": "markdown",
   "metadata": {},
   "source": [
    "### Обучим модель"
   ]
  },
  {
   "cell_type": "code",
   "execution_count": null,
   "metadata": {},
   "outputs": [],
   "source": [
    "m, b, cost = linear_regression(x, y)\n",
    "\n",
    "y_pred = m * x + b\n",
    "\n",
    "plot(x, y, y_pred)\n",
    "print(f'MSE: {np.mean((y - y_pred) ** 2)}')"
   ]
  },
  {
   "attachments": {},
   "cell_type": "markdown",
   "metadata": {},
   "source": [
    "## Scikit-learn"
   ]
  },
  {
   "cell_type": "code",
   "execution_count": null,
   "metadata": {},
   "outputs": [],
   "source": [
    "from sklearn.linear_model import LinearRegression\n",
    "from sklearn.metrics import mean_squared_error\n",
    "\n",
    "lr = LinearRegression()"
   ]
  },
  {
   "cell_type": "code",
   "execution_count": null,
   "metadata": {},
   "outputs": [],
   "source": [
    "features = x.reshape(-1, 1)\n",
    "\n",
    "lr.fit(features, y)\n",
    "y_pred = lr.predict(features)\n",
    "\n",
    "plot(x, y, y_pred)\n",
    "print(f'MSE: {mean_squared_error(y, y_pred)}')"
   ]
  },
  {
   "attachments": {},
   "cell_type": "markdown",
   "metadata": {},
   "source": [
    "### Как улучшить?\n",
    "\n",
    "**Подсказка:** вспомните подсказку с прошлого семинара.\n"
   ]
  },
  {
   "cell_type": "code",
   "execution_count": null,
   "metadata": {},
   "outputs": [],
   "source": [
    "n = <YOUR CODE>\n",
    "\n",
    "def get_features2(x, n):\n",
    "    return <YOUR CODE>\n",
    "\n",
    "features = get_features2(x, n)\n",
    "\n",
    "lr2 = LinearRegression().fit(features, y)\n",
    "y_pred = lr2.predict(features)\n",
    "\n",
    "plot(x, y, y_pred)\n",
    "print(f'MSE: {mean_squared_error(y, y_pred)}')"
   ]
  },
  {
   "attachments": {},
   "cell_type": "markdown",
   "metadata": {},
   "source": [
    "### Протестируем:"
   ]
  },
  {
   "cell_type": "code",
   "execution_count": null,
   "metadata": {},
   "outputs": [],
   "source": [
    "!wget https://raw.githubusercontent.com/Murcha1990/ML_math_2022/main/Семинары/data/sem03-test-data.pkl\n",
    "x_test, y_test = pickle.load(open('sem03-test-data.pkl', 'rb'))\n",
    "\n",
    "def test(model, features):\n",
    "    y_pred = lr.predict(features)\n",
    "    plt.axvspan(-6, 6, alpha=0.1, color='green')\n",
    "    plot(x_test, y_test, y_pred)\n",
    "    print(f'MSE: {mean_squared_error(y_test, y_pred)}')"
   ]
  },
  {
   "cell_type": "code",
   "execution_count": null,
   "metadata": {},
   "outputs": [],
   "source": [
    "y_pred = lr.predict(x_test.reshape(-1, 1))\n",
    "\n",
    "plt.axvspan(-6, 6, alpha=0.1, color='green')\n",
    "plot(x_test, y_test, y_pred)\n",
    "\n",
    "print(f'MSE: {mean_squared_error(y_test, y_pred)}')"
   ]
  },
  {
   "cell_type": "code",
   "execution_count": null,
   "metadata": {},
   "outputs": [],
   "source": [
    "y_pred = lr2.predict(get_features2(x_test, 20))\n",
    "\n",
    "plt.axvspan(-6, 6, alpha=0.1, color='green')\n",
    "plot(x_test, y_test, y_pred)\n",
    "\n",
    "print(f'MSE: {mean_squared_error(y_test, y_pred)}')"
   ]
  },
  {
   "attachments": {},
   "cell_type": "markdown",
   "metadata": {},
   "source": [
    "### Придумаем что-нибудь умное"
   ]
  },
  {
   "cell_type": "code",
   "execution_count": null,
   "metadata": {},
   "outputs": [],
   "source": [
    "def features_smart(x):\n",
    "    return <YOUR CODE>\n",
    "\n",
    "features = features_smart(x)\n",
    "\n",
    "lr_smart = LinearRegression().fit(features, y)\n",
    "y_pred = lr_smart.predict(features)\n",
    "\n",
    "plot(x, y, y_pred)\n",
    "print(f'MSE: {mean_squared_error(y, y_pred)}')"
   ]
  },
  {
   "cell_type": "code",
   "execution_count": null,
   "metadata": {},
   "outputs": [],
   "source": [
    "y_pred = lr_smart.predict(features_smart(x_test))\n",
    "\n",
    "plt.axvspan(-6, 6, alpha=0.1, color='green')\n",
    "plot(x_test, y_test, y_pred)\n",
    "\n",
    "print(f'MSE: {mean_squared_error(y_test, y_pred)}')"
   ]
  },
  {
   "attachments": {},
   "cell_type": "markdown",
   "metadata": {},
   "source": [
    "## Ещё sklearn"
   ]
  },
  {
   "cell_type": "code",
   "execution_count": null,
   "metadata": {},
   "outputs": [],
   "source": [
    "from sklearn.datasets import fetch_openml"
   ]
  },
  {
   "cell_type": "code",
   "execution_count": null,
   "metadata": {},
   "outputs": [],
   "source": [
    "plasma_retinol = fetch_openml(data_id=511, as_frame=True)\n",
    "\n",
    "# Research the dataset"
   ]
  },
  {
   "cell_type": "code",
   "execution_count": null,
   "metadata": {},
   "outputs": [],
   "source": [
    "from sklearn.model_selection import train_test_split\n",
    "\n",
    "data = plasma_retinol.data\n",
    "y = plasma_retinol.target\n",
    "\n",
    "# Split the dataset into train and test"
   ]
  },
  {
   "cell_type": "code",
   "execution_count": null,
   "metadata": {},
   "outputs": [],
   "source": [
    "X_train_num = <YOUR CODE>\n",
    "X_test_num = <YOUR CODE>"
   ]
  },
  {
   "cell_type": "code",
   "execution_count": null,
   "metadata": {},
   "outputs": [],
   "source": [
    "lr = LinearRegression().fit(X_train_num, y_train)\n",
    "\n",
    "y_pred = lr.predict(X_test_num)\n",
    "print(f'MSE: {mean_squared_error(y_test, y_pred)}')"
   ]
  },
  {
   "cell_type": "code",
   "execution_count": null,
   "metadata": {},
   "outputs": [],
   "source": [
    "from sklearn.preprocessing import StandardScaler\n",
    "\n",
    "scaler = StandardScaler()\n",
    "# Try it yourself"
   ]
  },
  {
   "cell_type": "code",
   "execution_count": null,
   "metadata": {},
   "outputs": [],
   "source": [
    "from sklearn.pipeline import make_pipeline\n",
    "\n",
    "pipeline = make_pipeline(scaler, lr)\n",
    "# Train the pipeline"
   ]
  },
  {
   "cell_type": "code",
   "execution_count": null,
   "metadata": {},
   "outputs": [],
   "source": [
    "y_pred = pipeline.predict(X_train_num)\n",
    "print(f'MSE: {mean_squared_error(y_train, y_pred)}')"
   ]
  },
  {
   "cell_type": "code",
   "execution_count": null,
   "metadata": {},
   "outputs": [],
   "source": [
    "y_pred = pipeline.predict(X_test_num)\n",
    "print(f'MSE: {mean_squared_error(y_test, y_pred)}')"
   ]
  },
  {
   "cell_type": "code",
   "execution_count": null,
   "metadata": {},
   "outputs": [],
   "source": [
    "from sklearn.preprocessing import OneHotEncoder\n",
    "\n",
    "X_cat = data.select_dtypes(exclude=float)\n",
    "\n",
    "encoder = OneHotEncoder()\n",
    "# Try it yourself"
   ]
  },
  {
   "cell_type": "code",
   "execution_count": null,
   "metadata": {},
   "outputs": [],
   "source": [
    "from sklearn.compose import make_column_transformer, make_column_selector\n",
    "\n",
    "transformer = make_column_transformer(\n",
    "    (scaler, make_column_selector(dtype_include=float)),\n",
    "    (encoder, make_column_selector(dtype_exclude=float))\n",
    ")\n",
    "# Try it yourself"
   ]
  },
  {
   "cell_type": "code",
   "execution_count": null,
   "metadata": {},
   "outputs": [],
   "source": [
    "pipeline = make_pipeline(transformer, lr)\n",
    "# Train the pipeline"
   ]
  },
  {
   "cell_type": "code",
   "execution_count": null,
   "metadata": {},
   "outputs": [],
   "source": [
    "y_pred = pipeline.predict(data.loc[train_ix])\n",
    "print(f'MSE: {mean_squared_error(y_train, y_pred)}')"
   ]
  },
  {
   "cell_type": "code",
   "execution_count": null,
   "metadata": {},
   "outputs": [],
   "source": [
    "y_pred = pipeline.predict(data.loc[test_ix])\n",
    "print(f'MSE: {mean_squared_error(y_test, y_pred)}')"
   ]
  },
  {
   "attachments": {},
   "cell_type": "markdown",
   "metadata": {},
   "source": [
    "## Регуляризация"
   ]
  },
  {
   "cell_type": "code",
   "execution_count": null,
   "metadata": {},
   "outputs": [],
   "source": [
    "import seaborn as sns\n",
    "from sklearn.datasets import make_regression\n",
    "from sklearn.model_selection import train_test_split\n",
    "from sklearn.linear_model import Ridge, Lasso"
   ]
  },
  {
   "cell_type": "code",
   "execution_count": null,
   "metadata": {},
   "outputs": [],
   "source": [
    "X, y = make_regression(n_samples=100, n_features=1, noise=50, random_state=42)\n",
    "y_pred = lr.fit(X, y).predict(X)\n",
    "plot(X, y, y_pred)\n",
    "for alpha in np.logspace(-1, 3, 5, base=10):\n",
    "    y_pred = Ridge(alpha=alpha).fit(X, y).predict(X)\n",
    "    plt.plot(X, y_pred, label=f'alpha={alpha}')\n",
    "plt.legend()"
   ]
  },
  {
   "cell_type": "code",
   "execution_count": null,
   "metadata": {},
   "outputs": [],
   "source": [
    "X, y = make_regression(n_samples=100, n_features=1, noise=50, random_state=42)\n",
    "y_pred = lr.fit(X, y).predict(X)\n",
    "plot(X, y, y_pred)\n",
    "for alpha in np.logspace(-1, 3, 5, base=10):\n",
    "    y_pred = Lasso(alpha=alpha).fit(X, y).predict(X)\n",
    "    plt.plot(X, y_pred, label=f'alpha={alpha}')\n",
    "plt.legend()"
   ]
  },
  {
   "cell_type": "code",
   "execution_count": null,
   "metadata": {},
   "outputs": [],
   "source": [
    "X, y = make_regression(n_samples=100, n_features=150, n_informative=10,\n",
    "                       noise=.1, random_state=42, effective_rank=4)\n",
    "\n",
    "X_train, X_test, y_train, y_test = train_test_split(X, y, random_state=42, test_size=0.2)"
   ]
  },
  {
   "cell_type": "code",
   "execution_count": null,
   "metadata": {},
   "outputs": [],
   "source": [
    "lr = LinearRegression().fit(X_train, y_train)\n",
    "\n",
    "y_pred = lr.predict(X_test)\n",
    "print(f\"MSE: {mean_squared_error(y_test, y_pred)}\")"
   ]
  },
  {
   "cell_type": "code",
   "execution_count": null,
   "metadata": {},
   "outputs": [],
   "source": [
    "ridge = Ridge(alpha=.01).fit(X_train, y_train)\n",
    "y_ridge = ridge.predict(X_test)\n",
    "print(f\"MSE: {mean_squared_error(y_test, y_ridge)}\")"
   ]
  },
  {
   "cell_type": "code",
   "execution_count": null,
   "metadata": {},
   "outputs": [],
   "source": [
    "lasso = Lasso(alpha=.01).fit(X_train, y_train)\n",
    "y_lasso = lasso.predict(X_test)\n",
    "print(f\"MSE: {mean_squared_error(y_test, y_lasso)}\")"
   ]
  },
  {
   "cell_type": "code",
   "execution_count": null,
   "metadata": {},
   "outputs": [],
   "source": [
    "plt.bar(range(lr.coef_.shape[0]), sorted(lr.coef_))"
   ]
  },
  {
   "cell_type": "code",
   "execution_count": null,
   "metadata": {},
   "outputs": [],
   "source": [
    "plt.bar(range(ridge.coef_.shape[0]), sorted(ridge.coef_))"
   ]
  },
  {
   "cell_type": "code",
   "execution_count": null,
   "metadata": {},
   "outputs": [],
   "source": [
    "plt.bar(range(lasso.coef_.shape[0]), sorted(lasso.coef_))"
   ]
  }
 ],
 "metadata": {
  "kernelspec": {
   "display_name": "base",
   "language": "python",
   "name": "python3"
  },
  "language_info": {
   "codemirror_mode": {
    "name": "ipython",
    "version": 3
   },
   "file_extension": ".py",
   "mimetype": "text/x-python",
   "name": "python",
   "nbconvert_exporter": "python",
   "pygments_lexer": "ipython3",
   "version": "3.10.8"
  },
  "vscode": {
   "interpreter": {
    "hash": "3f20f5863f24dac35637d7f882b531b7edd6cd78621bb359b5b6d94a3de44fe0"
   }
  }
 },
 "nbformat": 4,
 "nbformat_minor": 2
}
